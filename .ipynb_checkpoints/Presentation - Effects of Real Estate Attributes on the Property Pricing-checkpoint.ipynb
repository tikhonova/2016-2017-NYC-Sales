{
 "cells": [
  {
   "cell_type": "markdown",
   "metadata": {
    "slideshow": {
     "slide_type": "slide"
    }
   },
   "source": [
    "# Effects of Real Estate Attributes on Property Pricing, based on the 2016-2017 NYC Property Sales dataset.\n",
    "\n",
    "## by Tatiana Tikhonova"
   ]
  },
  {
   "cell_type": "markdown",
   "metadata": {
    "slideshow": {
     "slide_type": "slide"
    }
   },
   "source": [
    "## Investigation Overview\n",
    "\n",
    "In this investigation, I would like to look at the property attributes that could be used to predict their prices, zooming in on the size, class, and location.\n",
    "\n",
    "## Dataset Overview\n",
    "\n",
    "The dataset consists of information regarding properties sold in New York City over a 12-month period from September 2016 to September 2017. It contains the location, address, type, sale price, and sale date of building units sold. A number of rows were removed due to them missing values that are crucial to our analysis."
   ]
  },
  {
   "cell_type": "code",
   "execution_count": 2,
   "metadata": {
    "slideshow": {
     "slide_type": "skip"
    }
   },
   "outputs": [],
   "source": [
    "# import all packages and set plots to be embedded inline\n",
    "import numpy as np\n",
    "\n",
    "import pandas as pd\n",
    "pd.set_option('display.max_rows', 500)\n",
    "pd.set_option('display.max_columns', 500)\n",
    "pd.set_option('display.width', 1000)\n",
    "\n",
    "import seaborn as sns\n",
    "\n",
    "import matplotlib.pyplot as plt\n",
    "import seaborn as sb\n",
    "\n",
    "%matplotlib inline\n",
    "\n",
    "# suppress warnings from final output\n",
    "import warnings\n",
    "warnings.simplefilter(\"ignore\")\n",
    "pd.options.mode.chained_assignment = None  # default='warn'"
   ]
  },
  {
   "cell_type": "code",
   "execution_count": 3,
   "metadata": {
    "slideshow": {
     "slide_type": "skip"
    }
   },
   "outputs": [],
   "source": [
    "# load in the dataset into a pandas dataframe\n",
    "df = pd.read_csv('/Users/tatianatikhonova/Documents/udacity/Project4/RealEstateSales/ToGit/wrangled_sales.csv')"
   ]
  },
  {
   "cell_type": "markdown",
   "metadata": {
    "slideshow": {
     "slide_type": "slide"
    }
   },
   "source": [
    "# Apartment and Building Sales distribution by Borough\n",
    "\n",
    "> First, lets see *how many* sales were made in our given time period in each of the city boroughs. Let's add a bit of nuance and some granularity: does apartment sales distribution differ from the one for buildings?\n"
   ]
  },
  {
   "cell_type": "code",
   "execution_count": null,
   "metadata": {
    "slideshow": {
     "slide_type": "subslide"
    }
   },
   "outputs": [],
   "source": [
    "p1 = k[k['Tax Class At Time Of Sale'] ==2].Borough.value_counts().plot(kind='line');\n",
    "p2 = k[k['Tax Class At Time Of Sale'] !=2].Borough.value_counts().plot(kind='line');\n",
    "plt.title('Count of Building Sales and Apartment Sales by Borough')\n",
    "plt.xlabel('Borough')\n",
    "plt.ylabel('# of Sales')\n",
    "plt.legend(['Apartment sales','Building sales']);\n",
    "\n",
    "#• Class 1: Includes most residential property of up to three units (such as one-,\n",
    "#two-, and three-family homes and small stores or offices with one or two\n",
    "#attached apartments), vacant land that is zoned for residential use, and most\n",
    "#condominiums that are not more than three stories.\n",
    "#• Class 2: Includes all other property that is primarily residential, such as\n",
    "#cooperatives and condominiums.\n",
    "#Class 4: Includes all other properties not included in class 1,2, and 3, such as\n",
    "#offices, factories, warehouses, garage buildings, etc. "
   ]
  },
  {
   "cell_type": "markdown",
   "metadata": {
    "collapsed": true,
    "slideshow": {
     "slide_type": "slide"
    }
   },
   "source": [
    "## Property Sales by Price and Borough\n",
    "\n",
    "> Now let's check which ones get more expensive. We ovserves that the majority of sales were made in Queens, does that mean that the overall sales value there prevails? Take a look at the below slide and find out for yourself!"
   ]
  },
  {
   "cell_type": "code",
   "execution_count": null,
   "metadata": {
    "slideshow": {
     "slide_type": "subslide"
    }
   },
   "outputs": [],
   "source": [
    "ax = sns.barplot(x=\"Borough\", \n",
    "y='Sale Price', \n",
    "data=k, \n",
    "palette=sns.color_palette('coolwarm', n_colors=5))\n",
    "from matplotlib import rcParams\n",
    "# Specify the figure size in inches, for both X, and Y axes\n",
    "rcParams['figure.figsize'] = 10,5"
   ]
  },
  {
   "cell_type": "markdown",
   "metadata": {
    "slideshow": {
     "slide_type": "slide"
    }
   },
   "source": [
    "## Average Property Cost by Borough\n",
    "\n",
    "> Now that we know the accumulated total of sales made in each borough, it would be interesting to see the average. How much does a propoerty cost in, say, Staten Island? But keep in mind, these sales include commercial building and factory sales."
   ]
  },
  {
   "cell_type": "code",
   "execution_count": null,
   "metadata": {
    "slideshow": {
     "slide_type": "subslide"
    }
   },
   "outputs": [],
   "source": [
    "avg_price_per_unit.plot(kind='line',color='blue', linestyle ='dotted', linewidth=2);\n",
    "leg.get_frame().set_alpha(0.5)\n",
    "\n",
    "plt.ylabel('Avg Price')\n",
    "plt.title(\"Average Price by Borough\");"
   ]
  },
  {
   "cell_type": "markdown",
   "metadata": {
    "slideshow": {
     "slide_type": "slide"
    }
   },
   "source": [
    "## Average Property Cost by Class\n",
    "\n",
    "> Since we mentioned that all of these real estate deals include commercial sales, it would be eye opening to discover how much each type costs as compared to others. My guess is that office buildings rank highest, what is yours? *(P.S. Check how Family Dwelling sales cost the lowest – something to remember when looking at the last slide.)*"
   ]
  },
  {
   "cell_type": "code",
   "execution_count": null,
   "metadata": {
    "slideshow": {
     "slide_type": "subslide"
    }
   },
   "outputs": [],
   "source": [
    "avg_by_class = k.groupby('Class',as_index=False).mean()\n",
    "avg_by_class.sort_values(\"Sale Price\",ascending=False, inplace=True)\n",
    "plt.figure(figsize=(16,6))\n",
    "byclass = sns.barplot(x='Sale Price',y='Class', data=avg_by_class,orient='h')\n"
   ]
  },
  {
   "cell_type": "markdown",
   "metadata": {
    "slideshow": {
     "slide_type": "slide"
    }
   },
   "source": [
    "## Average Apartment Cost\n",
    "\n",
    "> Let's separate apartments from buildings, and take a look at the former. Which type is on average more expensive, when looking at the 2016-2017 NYC sales?"
   ]
  },
  {
   "cell_type": "code",
   "execution_count": null,
   "metadata": {
    "slideshow": {
     "slide_type": "subslide"
    }
   },
   "outputs": [],
   "source": [
    "byclass = sns.barplot(x='Sale Price',y='Class',data=avg_apt_by_class,orient='h');\n",
    "plt.title(\"Average Cost of an Apartment\");"
   ]
  },
  {
   "cell_type": "markdown",
   "metadata": {
    "slideshow": {
     "slide_type": "slide"
    }
   },
   "source": [
    "## Majority of Sales by Class\n",
    "\n",
    "> Lastly, I'd like to show you what happens if we look at the total # of sales regardless of its price or location: which type of properties sold the most? Surprisingly, it's..."
   ]
  },
  {
   "cell_type": "code",
   "execution_count": null,
   "metadata": {
    "slideshow": {
     "slide_type": "subslide"
    }
   },
   "outputs": [],
   "source": [
    "ax = sns.countplot(y=\"Class\",\n",
    "            data=k[(k['Borough']=='Queens') & \n",
    "                   (k['Year Built'].between(1925,1960))],\n",
    "                   palette=\"Greens_d\",\n",
    "            order = k['Class'].value_counts().iloc[:5].index);"
   ]
  },
  {
   "cell_type": "markdown",
   "metadata": {
    "slideshow": {
     "slide_type": "slide"
    }
   },
   "source": [
    "## The End\n",
    "\n",
    "I hope you enjoyed this little slide show as much as I did. Thanks for checking it out!"
   ]
  },
  {
   "cell_type": "markdown",
   "metadata": {
    "slideshow": {
     "slide_type": "notes"
    }
   },
   "source": [
    "> Once you're ready to finish your presentation, check your output by using\n",
    "nbconvert to export the notebook and set up a server for the slides. From the\n",
    "terminal or command line, use the following expression:\n",
    "> > `jupyter nbconvert <file_name>.ipynb --to slides --post serve --template output_toggle`\n",
    "\n",
    "> This should open a tab in your web browser where you can scroll through your\n",
    "presentation. Sub-slides can be accessed by pressing 'down' when viewing its parent\n",
    "slide. Make sure you remove all of the quote-formatted guide notes like this one\n",
    "before you finish your presentation!"
   ]
  }
 ],
 "metadata": {
  "celltoolbar": "Slideshow",
  "kernelspec": {
   "display_name": "Python 3",
   "language": "python",
   "name": "python3"
  },
  "language_info": {
   "codemirror_mode": {
    "name": "ipython",
    "version": 3
   },
   "file_extension": ".py",
   "mimetype": "text/x-python",
   "name": "python",
   "nbconvert_exporter": "python",
   "pygments_lexer": "ipython3",
   "version": "3.8.5"
  }
 },
 "nbformat": 4,
 "nbformat_minor": 2
}
